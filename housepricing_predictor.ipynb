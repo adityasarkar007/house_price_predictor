{
 "cells": [
  {
   "cell_type": "markdown",
   "metadata": {},
   "source": [
    "# Housing Price Prediction with Linear Regression\n",
    "\n",
    "\n",
    "\n"
   ]
  },
  {
   "cell_type": "code",
   "execution_count": null,
   "metadata": {},
   "outputs": [],
   "source": [
    "# Import necessary libraries\n",
    "import numpy as np\n",
    "import pandas as pd\n",
    "import matplotlib.pyplot as plt\n",
    "from sklearn.model_selection import train_test_split\n",
    "from sklearn.linear_model import LinearRegression\n",
    "from sklearn.metrics import mean_squared_error, r2_score\n",
    "import seaborn as sns\n",
    "\n",
    "# Set plot style\n",
    "plt.style.use('seaborn-v0_8-whitegrid')\n",
    "sns.set_context(\"notebook\", font_scale=1.2)"
   ]
  },
  {
   "cell_type": "code",
   "execution_count": null,
   "metadata": {},
   "outputs": [],
   "source": [
    "# Set random seed for reproducibility\n",
    "np.random.seed(42)\n",
    "n_samples = 100\n",
    "\n",
    "# Generate synthetic house data\n",
    "# Square footage between 1000 and 3000 sq ft\n",
    "sq_footage = np.random.randint(1000, 3000, n_samples)\n",
    "\n",
    "# Price is roughly $100-200 per sq ft with some noise\n",
    "# This creates a linear relationship with noise\n",
    "price = sq_footage * np.random.uniform(100, 200, n_samples) + np.random.normal(0, 50000, n_samples)\n",
    "\n",
    "# Create a DataFrame\n",
    "house_data = pd.DataFrame({\n",
    "    'square_footage': sq_footage,\n",
    "    'price': price\n",
    "})\n",
    "\n",
    "# Display the first few rows\n",
    "house_data.head()"
   ]
  },
  {
   "cell_type": "code",
   "execution_count": null,
   "metadata": {},
   "outputs": [],
   "source": [
    "# Display basic statistics\n",
    "house_data.describe()"
   ]
  },
  {
   "cell_type": "code",
   "execution_count": null,
   "metadata": {},
   "outputs": [],
   "source": [
    "# Create a scatter plot\n",
    "plt.figure(figsize=(10, 6))\n",
    "sns.scatterplot(x='square_footage', y='price', data=house_data)\n",
    "plt.title('House Price vs Square Footage')\n",
    "plt.xlabel('Square Footage')\n",
    "plt.ylabel('Price ($)')\n",
    "plt.show()"
   ]
  },
  {
   "cell_type": "code",
   "execution_count": null,
   "metadata": {},
   "outputs": [],
   "source": [
    "# Define features (X) and target variable (y)\n",
    "X = house_data[['square_footage']]  # Features (in this case, just one feature)\n",
    "y = house_data['price']             # Target variable"
   ]
  },
  {
   "cell_type": "code",
   "execution_count": null,
   "metadata": {},
   "outputs": [],
   "source": [
    "# Split data: 75% for training, 25% for testing\n",
    "X_train, X_test, y_train, y_test = train_test_split(X, y, test_size=0.25, random_state=42)\n",
    "print(f\"Training set size: {X_train.shape[0]} samples\")\n",
    "print(f\"Testing set size: {X_test.shape[0]} samples\")"
   ]
  },
  {
   "cell_type": "code",
   "execution_count": null,
   "metadata": {},
   "outputs": [],
   "source": [
    "# Initialize and train the model\n",
    "model = LinearRegression()\n",
    "model.fit(X_train, y_train)"
   ]
  },
  {
   "cell_type": "code",
   "execution_count": null,
   "metadata": {},
   "outputs": [],
   "source": [
    "# Generate predictions for both training and test sets\n",
    "y_pred_train = model.predict(X_train)\n",
    "y_pred_test = model.predict(X_test)"
   ]
  },
  {
   "cell_type": "code",
   "execution_count": null,
   "metadata": {},
   "outputs": [],
   "source": [
    "# Calculate evaluation metrics\n",
    "train_rmse = np.sqrt(mean_squared_error(y_train, y_pred_train))\n",
    "test_rmse = np.sqrt(mean_squared_error(y_test, y_pred_test))\n",
    "train_r2 = r2_score(y_train, y_pred_train)\n",
    "test_r2 = r2_score(y_test, y_pred_test)\n",
    "\n",
    "print(\"Model Performance:\")\n",
    "print(f\"Training RMSE: ${train_rmse:.2f}\")\n",
    "print(f\"Testing RMSE: ${test_rmse:.2f}\")\n",
    "print(f\"Training R²: {train_r2:.4f}\")\n",
    "print(f\"Testing R²: {test_r2:.4f}\")\n",
    "print(f\"\\nModel Coefficients:\")\n",
    "print(f\"Intercept: ${model.intercept_:.2f}\")\n",
    "print(f\"Coefficient (price per sq ft): ${model.coef_[0]:.2f}\")"
   ]
  },
  {
   "cell_type": "code",
   "execution_count": null,
   "metadata": {},
   "outputs": [],
   "source": [
    "# Create a plot showing data points and regression line\n",
    "plt.figure(figsize=(10, 6))\n",
    "sns.scatterplot(x='square_footage', y='price', data=house_data, alpha=0.6)\n",
    "\n",
    "# Create a range of x values for the line\n",
    "x_range = np.linspace(X['square_footage'].min(), X['square_footage'].max(), 100).reshape(-1, 1)\n",
    "y_range = model.predict(x_range)\n",
    "\n",
    "# Plot the regression line\n",
    "plt.plot(x_range, y_range, color='red', linewidth=2)\n",
    "plt.title('Linear Regression: House Price vs Square Footage')\n",
    "plt.xlabel('Square Footage')\n",
    "plt.ylabel('Price ($)')\n",
    "plt.show()"
   ]
  },
  {
   "cell_type": "code",
   "execution_count": null,
   "metadata": {},
   "outputs": [],
   "source": [
    "def predict_house_price(square_feet):\n",
    "    \"\"\"Predict house price based on square footage.\"\"\"\n",
    "    if square_feet < 500 or square_feet > 5000:\n",
    "        return \"Input outside reliable prediction range (500-5000 sq ft)\"\n",
    "    \n",
    "    price = model.predict([[square_feet]])[0]\n",
    "    return f\"Estimated price for {square_feet} sq ft home: ${price:.2f}\""
   ]
  },
  {
   "cell_type": "code",
   "execution_count": null,
   "metadata": {},
   "outputs": [],
   "source": [
    "# Test the prediction function with various house sizes\n",
    "print(\"Example Predictions:\")\n",
    "for size in [1000, 1500, 2000, 2500, 3000]:\n",
    "    print(predict_house_price(size))"
   ]
  },
  {
   "cell_type": "code",
   "execution_count": null,
   "metadata": {},
   "outputs": [],
   "source": [
    "# Enter your own square footage to get a price prediction\n",
    "your_sqft = 1800  # Change this value to your desired square footage\n",
    "predict_house_price(your_sqft)"
   ]
  }
 ],
 "metadata": {
  "kernelspec": {
   "display_name": "Python 3 (ipykernel)",
   "language": "python",
   "name": "python3"
  },
  "language_info": {
   "codemirror_mode": {
    "name": "ipython",
    "version": 3
   },
   "file_extension": ".py",
   "mimetype": "text/x-python",
   "name": "python",
   "nbconvert_exporter": "python",
   "pygments_lexer": "ipython3",
   "version": "3.12.7"
  }
 },
 "nbformat": 4,
 "nbformat_minor": 4
}
